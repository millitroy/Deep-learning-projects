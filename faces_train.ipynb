{
 "cells": [
  {
   "cell_type": "code",
   "execution_count": 70,
   "metadata": {},
   "outputs": [],
   "source": [
    "import numpy as np\n",
    "from PIL import Image\n",
    "import cv2\n",
    "import pickle"
   ]
  },
  {
   "cell_type": "code",
   "execution_count": 71,
   "metadata": {},
   "outputs": [],
   "source": [
    "import os\n",
    "\n",
    "try:\n",
    "    BASE_DIR = os.path.dirname(os.path.abspath(__file__))\n",
    "except NameError:\n",
    "    import sys\n",
    "    BASE_DIR = os.path.dirname(os.path.abspath(sys.argv[0]))"
   ]
  },
  {
   "cell_type": "code",
   "execution_count": 72,
   "metadata": {},
   "outputs": [],
   "source": [
    "BASE_DIR = 'C:\\\\Users\\\\itadmin'"
   ]
  },
  {
   "cell_type": "code",
   "execution_count": 73,
   "metadata": {},
   "outputs": [],
   "source": [
    "image_dir = os.path.join(BASE_DIR, \"images\")"
   ]
  },
  {
   "cell_type": "code",
   "execution_count": 74,
   "metadata": {},
   "outputs": [
    {
     "data": {
      "text/plain": [
       "'C:\\\\Users\\\\itadmin\\\\images'"
      ]
     },
     "execution_count": 74,
     "metadata": {},
     "output_type": "execute_result"
    }
   ],
   "source": [
    "image_dir "
   ]
  },
  {
   "cell_type": "code",
   "execution_count": 75,
   "metadata": {},
   "outputs": [],
   "source": [
    "face_cascade = cv2.CascadeClassifier('cascades/data/haarcascade_frontalface_alt2.xml')\n",
    "recognizer = cv2.face.LBPHFaceRecognizer_create()"
   ]
  },
  {
   "cell_type": "code",
   "execution_count": 80,
   "metadata": {},
   "outputs": [
    {
     "name": "stdout",
     "output_type": "stream",
     "text": [
      "[0, 0, 1, 1, 1, 1, 1, 1]\n",
      "[array([[ 55,  58,  58, ...,  23,  27,  29],\n",
      "       [ 70,  64,  83, ...,  24,  17,  17],\n",
      "       [ 73,  81,  85, ...,  18,  23,  23],\n",
      "       ...,\n",
      "       [ 62,  68,  69, ..., 100,  84,  89],\n",
      "       [ 63,  67,  67, ..., 108,  97,  78],\n",
      "       [ 61,  57,  53, ..., 103, 102,  93]], dtype=uint8), array([[235, 237, 241, ..., 203, 194, 197],\n",
      "       [237, 234, 237, ..., 204, 194, 194],\n",
      "       [238, 234, 233, ..., 203, 196, 193],\n",
      "       ...,\n",
      "       [231, 234, 236, ..., 206, 204, 199],\n",
      "       [231, 234, 235, ..., 206, 205, 201],\n",
      "       [230, 233, 235, ..., 208, 201, 202]], dtype=uint8), array([[254, 254, 254, ..., 254, 254, 254],\n",
      "       [254, 254, 254, ..., 254, 254, 254],\n",
      "       [254, 254, 254, ..., 254, 254, 254],\n",
      "       ...,\n",
      "       [247, 254, 255, ...,  96,  96,  98],\n",
      "       [247, 205, 155, ...,  88,  95, 101],\n",
      "       [139, 111, 101, ...,  91,  97, 103]], dtype=uint8), array([[ 31,  30,  21, ...,  86, 121, 111],\n",
      "       [ 27,  33,  19, ...,  67, 132, 114],\n",
      "       [ 22,  23,  19, ...,  66, 115, 134],\n",
      "       ...,\n",
      "       [ 87,  83,  71, ...,  26,  30,  33],\n",
      "       [ 79,  77,  71, ...,  25,  26,  32],\n",
      "       [ 75,  73,  70, ...,  22,  23,  27]], dtype=uint8), array([[  4,   3,   3, ..., 111,  98,  89],\n",
      "       [  4,   3,   3, ..., 128, 107,  94],\n",
      "       [  4,   3,   3, ..., 141, 109,  93],\n",
      "       ...,\n",
      "       [ 17,  18,  32, ...,  60,  62,  61],\n",
      "       [ 19,  26,  43, ...,  63,  64,  60],\n",
      "       [ 24,  37,  52, ...,  65,  65,  59]], dtype=uint8), array([[ 7, 19, 29, ..., 12,  9,  5],\n",
      "       [ 4, 16, 32, ..., 12,  9,  7],\n",
      "       [ 2, 17, 33, ..., 18, 12,  8],\n",
      "       ...,\n",
      "       [10,  9,  8, ..., 12, 12, 12],\n",
      "       [ 9,  8,  8, ..., 12, 13, 14],\n",
      "       [ 9,  7,  8, ..., 11, 12, 12]], dtype=uint8), array([[38, 34, 28, ..., 17, 32, 52],\n",
      "       [38, 33, 28, ..., 18, 22, 57],\n",
      "       [34, 26, 32, ..., 20, 25, 54],\n",
      "       ...,\n",
      "       [40, 33, 37, ..., 17, 23, 18],\n",
      "       [33, 32, 33, ..., 14, 18, 24],\n",
      "       [31, 31, 31, ..., 21, 16, 33]], dtype=uint8), array([[19, 20, 21, ..., 51, 47, 40],\n",
      "       [19, 20, 22, ..., 39, 36, 35],\n",
      "       [18, 20, 22, ..., 33, 33, 37],\n",
      "       ...,\n",
      "       [18, 18, 18, ..., 67, 67, 68],\n",
      "       [22, 22, 22, ..., 66, 66, 67],\n",
      "       [27, 27, 24, ..., 65, 65, 65]], dtype=uint8)]\n"
     ]
    }
   ],
   "source": [
    "y_labels = []\n",
    "x_train = []\n",
    "current_id = 0\n",
    "label_ids = {}\n",
    "\n",
    "for root, dirs, files in os.walk(image_dir):\n",
    "    for file in files:\n",
    "        if file.endswith(\"png\") or file.endswith(\"jpg\"):\n",
    "            path = os.path.join(root, file)\n",
    "            label = os.path.basename(os.path.dirname(path)).replace(\" \",\"-\").lower()\n",
    "            #or label = os.path.basename(root).replace(\" \",\"-\").lower()\n",
    "            #print(label, path)\n",
    "            \n",
    "            if not label in label_ids:\n",
    "                label_ids[label] = current_id\n",
    "                current_id += 1\n",
    "                \n",
    "            id_ = label_ids[label]\n",
    "            #print(label_ids)\n",
    "            \n",
    "            #y_labels.append(label) #we want some number\n",
    "            #x_train.append(path) #verify this image and turn it into a numpy array, also to gray\n",
    "            \n",
    "            pil_image = Image.open(path).convert(\"L\") # .convert ('L') turns it into  gray\n",
    "            size = (550,550)\n",
    "            final_image = pil_image.resize(size, Image.ANTIALIAS)\n",
    "            image_array = np.array(final_image, \"uint8\") # every pixel turning into numpy array\n",
    "            #print(image_array)\n",
    "            faces = face_cascade.detectMultiScale(image_array, scaleFactor = 1.5, minNeighbors = 5)\n",
    "            \n",
    "            for (x,y,w,h) in faces:\n",
    "                roi = image_array[y:y+h, x:x+w]\n",
    "                x_train.append(roi)\n",
    "                y_labels.append(id_)\n",
    "            \n",
    "print(y_labels)\n",
    "print(x_train)"
   ]
  },
  {
   "cell_type": "code",
   "execution_count": 77,
   "metadata": {},
   "outputs": [
    {
     "data": {
      "text/plain": [
       "'C:\\\\Users\\\\itadmin\\\\images\\\\sherin\\\\6.png'"
      ]
     },
     "execution_count": 77,
     "metadata": {},
     "output_type": "execute_result"
    }
   ],
   "source": [
    "path"
   ]
  },
  {
   "cell_type": "code",
   "execution_count": 78,
   "metadata": {},
   "outputs": [],
   "source": [
    "with open(\"labels.pickle\", 'wb') as f: # writing bytes as file\n",
    "    pickle.dump(label_ids, f)\n",
    "\n",
    "recognizer.train(x_train, np.array(y_labels)) #training numpy arrays\n",
    "recognizer.save(\"trainner.yml\")"
   ]
  },
  {
   "cell_type": "code",
   "execution_count": null,
   "metadata": {},
   "outputs": [],
   "source": []
  },
  {
   "cell_type": "code",
   "execution_count": null,
   "metadata": {},
   "outputs": [],
   "source": []
  }
 ],
 "metadata": {
  "kernelspec": {
   "display_name": "Python 3",
   "language": "python",
   "name": "python3"
  },
  "language_info": {
   "codemirror_mode": {
    "name": "ipython",
    "version": 3
   },
   "file_extension": ".py",
   "mimetype": "text/x-python",
   "name": "python",
   "nbconvert_exporter": "python",
   "pygments_lexer": "ipython3",
   "version": "3.7.1"
  }
 },
 "nbformat": 4,
 "nbformat_minor": 2
}
